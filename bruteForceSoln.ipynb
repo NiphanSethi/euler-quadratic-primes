{
 "cells": [
  {
   "cell_type": "markdown",
   "metadata": {},
   "source": [
    "#### Defining Imports and Constants"
   ]
  },
  {
   "cell_type": "code",
   "execution_count": 5,
   "metadata": {},
   "outputs": [],
   "source": [
    "from math import sqrt\n",
    "from typing import Callable\n",
    "\n",
    "# a = linear coefficient, b = constant coefficient\n",
    "# |a| < 1000\n",
    "LINEAR_COEFF_LOWER_LIMIT = -999\n",
    "LINEAR_COEFF_UPPER_LIMIT = 999\n",
    "# |b| <= 1000\n",
    "CONST_COEFF_LOWER_LIMIT = -1000\n",
    "CONST_COEFF_UPPER_LIMIT = 1000"
   ]
  },
  {
   "cell_type": "markdown",
   "metadata": {},
   "source": [
    "#### Helper Functions"
   ]
  },
  {
   "cell_type": "code",
   "execution_count": 19,
   "metadata": {},
   "outputs": [],
   "source": [
    "# Calculates the number of primes for consecutive values of n after being evaluated by an expression\n",
    "def calcNumConsecutivePrimes(expression: Callable, linearCoeff: int, constCoeff: int) -> int:\n",
    "    n = 0\n",
    "    consecutivePrimeCount = 0\n",
    "    while isPrime(expression(n, linearCoeff, constCoeff)):\n",
    "        consecutivePrimeCount += 1\n",
    "        n += 1\n",
    "    return consecutivePrimeCount\n",
    "\n",
    "# Time Complexity: O(sqrt(n))\n",
    "def isPrime(n: int) -> bool:\n",
    "    # by definition, prime numbers are natural numbers (1 also not a prime number)\n",
    "    if (n <= 1) or not isinstance(n, int): return False\n",
    "    # if a factor of n > sqrt(n), the other factor must be < sqrt(n)\n",
    "    # so only need to check up to and including sqrt(n)\n",
    "    for i in range(2, int(sqrt(n)) + 1):\n",
    "        if (n % i) == 0: return False\n",
    "    return True\n",
    "\n",
    "# Evaluates the output of the quadratic expression after substituting a, b, n\n",
    "def evalQuadraticExpr(n: int, linearCoeff: int, constCoeff: int) -> int:\n",
    "    return n ** 2 + linearCoeff * n + constCoeff\n",
    "\n",
    "# Formats solution output and prints to stdout\n",
    "def printFormattedOutput(linearCoeff: int, constCoeff: int, productOfCoeffs: int, consecutivePrimeCount: int) -> None:\n",
    "    print('Quadratic Expression: n^2 + %dn + %d' % (linearCoeff, constCoeff))\n",
    "    print('Product of Coefficients: %d' % productOfCoeffs)\n",
    "    print('Consecutive Prime Count: %d' % consecutivePrimeCount)"
   ]
  },
  {
   "cell_type": "markdown",
   "metadata": {},
   "source": [
    "#### Brute Force Solution"
   ]
  },
  {
   "cell_type": "code",
   "execution_count": 20,
   "metadata": {},
   "outputs": [
    {
     "name": "stdout",
     "output_type": "stream",
     "text": [
      "Quadratic Expression: n^2 + -61n + 971\n",
      "Product of Coefficients: -59231\n",
      "Consecutive Prime Count: 71\n"
     ]
    }
   ],
   "source": [
    "def main():\n",
    "    \n",
    "    maxLinearCoeff = LINEAR_COEFF_LOWER_LIMIT\n",
    "    maxConstCoeff = CONST_COEFF_LOWER_LIMIT\n",
    "    maxConsecutivePrimes = 0\n",
    "\n",
    "    # brute force - iterate through all possible values of the linear and constant coefficients\n",
    "    for a in range(LINEAR_COEFF_LOWER_LIMIT, LINEAR_COEFF_UPPER_LIMIT + 1):\n",
    "        for b in range(CONST_COEFF_LOWER_LIMIT, CONST_COEFF_UPPER_LIMIT + 1):\n",
    "            # calculate the number of primes for consecutive values of n, starting from n = 0\n",
    "            numConsecutivePrimes = calcNumConsecutivePrimes(evalQuadraticExpr, a, b)\n",
    "            # keep track of max consecutive prime count and coefficient values \n",
    "            if numConsecutivePrimes > maxConsecutivePrimes:\n",
    "                maxConsecutivePrimes = numConsecutivePrimes\n",
    "                maxLinearCoeff = a\n",
    "                maxConstCoeff = b\n",
    "    # print final quardatic equation, product of coefficients, and consecutive prime count to stdout\n",
    "    printFormattedOutput(maxLinearCoeff, maxConstCoeff, maxLinearCoeff * maxConstCoeff, maxConsecutivePrimes)\n",
    "\n",
    "\n",
    "main()"
   ]
  }
 ],
 "metadata": {
  "kernelspec": {
   "display_name": "Python 3.9.1 64-bit",
   "language": "python",
   "name": "python3"
  },
  "language_info": {
   "codemirror_mode": {
    "name": "ipython",
    "version": 3
   },
   "file_extension": ".py",
   "mimetype": "text/x-python",
   "name": "python",
   "nbconvert_exporter": "python",
   "pygments_lexer": "ipython3",
   "version": "3.9.1"
  },
  "orig_nbformat": 4,
  "vscode": {
   "interpreter": {
    "hash": "90003d89a9cc5dcdf2f708c9025479283fc0504be7dc7c4296b942faa130570f"
   }
  }
 },
 "nbformat": 4,
 "nbformat_minor": 2
}
